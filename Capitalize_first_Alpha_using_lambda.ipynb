{
 "cells": [
  {
   "cell_type": "code",
   "execution_count": 17,
   "metadata": {},
   "outputs": [
    {
     "name": "stdout",
     "output_type": "stream",
     "text": [
      "String after: Python Programming Is Awesome, And This Is Interesting\n"
     ]
    }
   ],
   "source": [
    "def word_both_cap(str): \n",
    "      \n",
    "    #lamda function for capitalizing the \n",
    "    # first and last letter of words in  \n",
    "    # the string \n",
    "    return ' '.join(map(lambda s: s.capitalize(),  \n",
    "                        s.title().split())) \n",
    "      \n",
    "      \n",
    "# Driver's code \n",
    "s = \"python programming is awesome, and this is interesting\"\n",
    "print(\"String after:\", word_both_cap(str))"
   ]
  },
  {
   "cell_type": "code",
   "execution_count": null,
   "metadata": {},
   "outputs": [],
   "source": []
  },
  {
   "cell_type": "code",
   "execution_count": null,
   "metadata": {},
   "outputs": [],
   "source": []
  }
 ],
 "metadata": {
  "kernelspec": {
   "display_name": "Python 3",
   "language": "python",
   "name": "python3"
  },
  "language_info": {
   "codemirror_mode": {
    "name": "ipython",
    "version": 3
   },
   "file_extension": ".py",
   "mimetype": "text/x-python",
   "name": "python",
   "nbconvert_exporter": "python",
   "pygments_lexer": "ipython3",
   "version": "3.6.11"
  }
 },
 "nbformat": 4,
 "nbformat_minor": 4
}
